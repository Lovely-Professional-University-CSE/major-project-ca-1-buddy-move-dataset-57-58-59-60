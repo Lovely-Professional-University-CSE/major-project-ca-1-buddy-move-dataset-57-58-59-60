{
 "cells": [
  {
   "cell_type": "code",
   "execution_count": 16,
   "metadata": {},
   "outputs": [
    {
     "name": "stdout",
     "output_type": "stream",
     "text": [
      "Iris Data Loaded\n",
      "Sample pattern: ['5.6' '3' '4.1' '1.3']\n",
      "Class of the above pattern: Versicolor\n"
     ]
    }
   ],
   "source": [
    "import numpy as np\n",
    "import math\n",
    "import random\n",
    "\n",
    "pattern = []\n",
    "classes = []\n",
    "\n",
    "filename = 'iris99.csv'\n",
    "file = open(filename,'r')\n",
    "#fopen=('iris99.csv','r')\n",
    "\n",
    "for line in file.readlines():\n",
    "    row = line.strip().split(',')\n",
    "    pattern.append(row[0:4])\n",
    "    classes.append(row[4])\n",
    "print(\"Iris Data Loaded\")\n",
    "file.close\n",
    "\n",
    "pattern = np.array(pattern)\n",
    "\n",
    "sample_no = np.random.randint(0,len(pattern))\n",
    "\n",
    "print(\"Sample pattern: \" + str(pattern[int(sample_no)]))\n",
    "print(\"Class of the above pattern: \" + str(classes[int(sample_no)]))"
   ]
  },
  {
   "cell_type": "code",
   "execution_count": null,
   "metadata": {},
   "outputs": [],
   "source": []
  }
 ],
 "metadata": {
  "kernelspec": {
   "display_name": "Python 3",
   "language": "python",
   "name": "python3"
  },
  "language_info": {
   "codemirror_mode": {
    "name": "ipython",
    "version": 3
   },
   "file_extension": ".py",
   "mimetype": "text/x-python",
   "name": "python",
   "nbconvert_exporter": "python",
   "pygments_lexer": "ipython3",
   "version": "3.7.3"
  }
 },
 "nbformat": 4,
 "nbformat_minor": 2
}

